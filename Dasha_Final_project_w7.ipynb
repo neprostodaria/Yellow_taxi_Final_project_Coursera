{
 "cells": [
  {
   "cell_type": "code",
   "execution_count": 1,
   "metadata": {
    "collapsed": true
   },
   "outputs": [],
   "source": [
    "import json\n",
    "import numpy as np\n",
    "import pandas as pd\n",
    "import ipywidgets as widgets\n",
    "from matplotlib import pyplot as plt\n",
    "from matplotlib import colors as colors\n",
    "\n",
    "import scipy.stats\n",
    "from scipy import stats\n",
    "\n",
    "from datetime import datetime\n",
    "from datetime import timedelta\n",
    "\n",
    "from bqplot import OrdinalScale, DateScale, LinearScale, Lines, Axis, Figure\n",
    "\n",
    "from ipyleaflet import Map, GeoJSON, Marker\n",
    "from ipywidgets import interact"
   ]
  },
  {
   "cell_type": "code",
   "execution_count": 2,
   "metadata": {
    "collapsed": true
   },
   "outputs": [],
   "source": [
    "# Нью-Йорк вписан в прямоугольник от -74.25559 до -73.70001 градусов долготы и от 40.49612 до 40.91553 широты. \n",
    "NY = (-74.25559, -73.70001, 40.49612, 40.91553)"
   ]
  },
  {
   "cell_type": "code",
   "execution_count": 3,
   "metadata": {
    "collapsed": true
   },
   "outputs": [],
   "source": [
    "ny_west = NY[0]\n",
    "ny_east = NY[1]\n",
    "ny_south = NY[2]\n",
    "ny_north = NY[3]"
   ]
  },
  {
   "cell_type": "markdown",
   "metadata": {},
   "source": [
    "Функция загрузки, фильтрации и агрегации данных"
   ]
  },
  {
   "cell_type": "code",
   "execution_count": 4,
   "metadata": {
    "collapsed": true
   },
   "outputs": [],
   "source": [
    "def aggregate_data(fname, dataname):\n",
    "    # Загрузка данных\n",
    "    data = pd.read_csv(fname, header = 0, sep=',')\n",
    "\n",
    "    # ФИЛЬТРАЦИЯ\n",
    "    # Удаление поездок с нулевой длительностью\n",
    "    data.drop(data[data['tpep_pickup_datetime'] == data['tpep_dropoff_datetime']].index, axis=0, inplace=True)\n",
    "    data.drop(data[data['tpep_pickup_datetime'] > data['tpep_dropoff_datetime']].index, axis=0, inplace=True)\n",
    "\n",
    "    # Удаление поездок с нулевым количеством пассажиров\n",
    "    data.drop(data[data['passenger_count'] == 0].index, axis=0, inplace=True)\n",
    "\n",
    "    # Удаление поездок с нулевым расстоянием поездки по счётчику\n",
    "    data.drop(data[data['trip_distance'] == 0].index, axis=0, inplace=True)\n",
    "\n",
    "    # Удаление поездок с координатами начала, не попадающими в прямоугольник Нью-Йорка\n",
    "    data.drop(data[(data['pickup_longitude'] < -74.25559) | (data['pickup_longitude']  > -73.70001) | (data['pickup_latitude']  < 40.49612) | (data['pickup_latitude']  > 40.91553)].index, axis=0, inplace=True)\n",
    "\n",
    "    # Новый столбец date, показывает час начала поездки\n",
    "    data.insert(1, 'timestamp', data.tpep_pickup_datetime.apply(lambda x : x.split(':')[0]))\n",
    "\n",
    "    X = data.pickup_longitude\n",
    "    Y = data.pickup_latitude\n",
    "    bin_count = 50\n",
    "    bin_stat = stats.binned_statistic_2d(X, Y, None, statistic='count',\n",
    "                                         bins=bin_count,\n",
    "                                         range=[[NY[0], NY[1]], [NY[2], NY[3]]],\n",
    "                                         expand_binnumbers=True)\n",
    "    regions = (bin_stat.binnumber[0] - 1) * bin_count + bin_stat.binnumber[1]\n",
    "\n",
    "    # Добавим еще один столбец - регион начала поездки\n",
    "    data.insert(1, 'region_id', regions)\n",
    "\n",
    "    # Теперь собираем аггрегированную таблицу из трех столбцов: дата, час, номер ячейки, \n",
    "    # количество поездок из этой ячейки в этот час в эту дату\n",
    "    data_agg = data[['timestamp','region_id']].groupby(['region_id', 'timestamp']).size().reset_index(name='actual')\n",
    "    \n",
    "    # Сохраняем\n",
    "    data_agg.to_csv(dataname, sep = ',', index = False, mode = 'a')"
   ]
  },
  {
   "cell_type": "code",
   "execution_count": 5,
   "metadata": {},
   "outputs": [
    {
     "name": "stdout",
     "output_type": "stream",
     "text": [
      "Wall time: 4min 42s\n"
     ]
    }
   ],
   "source": [
    "'''%%time\n",
    "\n",
    "aggregate_data('yellow_tripdata_2016-05.csv','data_agg_w7.csv')\n",
    "aggregate_data('yellow_tripdata_2016-06.csv','data_agg_w7.csv')\n",
    "'''"
   ]
  },
  {
   "cell_type": "code",
   "execution_count": 6,
   "metadata": {},
   "outputs": [
    {
     "name": "stderr",
     "output_type": "stream",
     "text": [
      "C:\\ProgramData\\Anaconda2\\lib\\site-packages\\IPython\\core\\interactiveshell.py:2718: DtypeWarning: Columns (0,2) have mixed types. Specify dtype option on import or set low_memory=False.\n",
      "  interactivity=interactivity, compiler=compiler, result=result)\n"
     ]
    },
    {
     "name": "stdout",
     "output_type": "stream",
     "text": [
      "(145492, 6)\n"
     ]
    },
    {
     "data": {
      "text/html": [
       "<div>\n",
       "<style>\n",
       "    .dataframe thead tr:only-child th {\n",
       "        text-align: right;\n",
       "    }\n",
       "\n",
       "    .dataframe thead th {\n",
       "        text-align: left;\n",
       "    }\n",
       "\n",
       "    .dataframe tbody tr th {\n",
       "        vertical-align: top;\n",
       "    }\n",
       "</style>\n",
       "<table border=\"1\" class=\"dataframe\">\n",
       "  <thead>\n",
       "    <tr style=\"text-align: right;\">\n",
       "      <th></th>\n",
       "      <th>region_id</th>\n",
       "      <th>timestamp</th>\n",
       "      <th>actual</th>\n",
       "      <th>date</th>\n",
       "      <th>day</th>\n",
       "      <th>hour</th>\n",
       "    </tr>\n",
       "  </thead>\n",
       "  <tbody>\n",
       "    <tr>\n",
       "      <th>3207</th>\n",
       "      <td>1075</td>\n",
       "      <td>2016-05-01 00:00:00</td>\n",
       "      <td>71</td>\n",
       "      <td>2016-05-01</td>\n",
       "      <td>1</td>\n",
       "      <td>0</td>\n",
       "    </tr>\n",
       "    <tr>\n",
       "      <th>3208</th>\n",
       "      <td>1075</td>\n",
       "      <td>2016-05-01 01:00:00</td>\n",
       "      <td>37</td>\n",
       "      <td>2016-05-01</td>\n",
       "      <td>1</td>\n",
       "      <td>1</td>\n",
       "    </tr>\n",
       "    <tr>\n",
       "      <th>3209</th>\n",
       "      <td>1075</td>\n",
       "      <td>2016-05-01 02:00:00</td>\n",
       "      <td>10</td>\n",
       "      <td>2016-05-01</td>\n",
       "      <td>1</td>\n",
       "      <td>2</td>\n",
       "    </tr>\n",
       "    <tr>\n",
       "      <th>3210</th>\n",
       "      <td>1075</td>\n",
       "      <td>2016-05-01 03:00:00</td>\n",
       "      <td>14</td>\n",
       "      <td>2016-05-01</td>\n",
       "      <td>1</td>\n",
       "      <td>3</td>\n",
       "    </tr>\n",
       "    <tr>\n",
       "      <th>3211</th>\n",
       "      <td>1075</td>\n",
       "      <td>2016-05-01 04:00:00</td>\n",
       "      <td>6</td>\n",
       "      <td>2016-05-01</td>\n",
       "      <td>1</td>\n",
       "      <td>4</td>\n",
       "    </tr>\n",
       "  </tbody>\n",
       "</table>\n",
       "</div>"
      ],
      "text/plain": [
       "      region_id           timestamp  actual        date  day  hour\n",
       "3207       1075 2016-05-01 00:00:00      71  2016-05-01    1     0\n",
       "3208       1075 2016-05-01 01:00:00      37  2016-05-01    1     1\n",
       "3209       1075 2016-05-01 02:00:00      10  2016-05-01    1     2\n",
       "3210       1075 2016-05-01 03:00:00      14  2016-05-01    1     3\n",
       "3211       1075 2016-05-01 04:00:00       6  2016-05-01    1     4"
      ]
     },
     "execution_count": 6,
     "metadata": {},
     "output_type": "execute_result"
    }
   ],
   "source": [
    "data_agg_full = pd.read_csv('data_agg_w7.csv', header = 0, sep=',')\n",
    "\n",
    "# Удаляем лишние заголовки\n",
    "data_agg_full.drop(data_agg_full.loc[data_agg_full['region_id'] == 'region_id'].index, axis = 0, inplace = True)\n",
    "\n",
    "# Приводим к необходимому типу данных\n",
    "data_agg_full['actual'] = pd.to_numeric(data_agg_full['actual'])\n",
    "data_agg_full['timestamp'] = pd.to_datetime(data_agg_full['timestamp'])\n",
    "data_agg_full['region_id'] = pd.to_numeric(data_agg_full['region_id'])\n",
    "data_agg_full['date'] = data_agg_full['timestamp'].dt.date \n",
    "data_agg_full['day'] = [data_agg_full['timestamp'][i].day for i in data_agg_full.index]\n",
    "data_agg_full['hour'] = [data_agg_full['timestamp'][i].hour for i in data_agg_full.index]\n",
    "\n",
    "rides_total = data_agg_full.loc[(data_agg_full.timestamp > '2016-04-30 23:00:00') & (data_agg_full.timestamp < '2016-06-01 00:00:00')][['region_id','actual']].groupby(['region_id']).sum()\n",
    "rides_total['mean'] = rides_total['actual']/31./24.\n",
    "index2select = np.array(rides_total.loc[(rides_total['mean'] >= 5)].index)\n",
    "\n",
    "data_agg = data_agg_full.loc[data_agg_full.region_id.isin(index2select)]\n",
    "\n",
    "print data_agg.shape\n",
    "data_agg.head()"
   ]
  },
  {
   "cell_type": "markdown",
   "metadata": {},
   "source": [
    "Прогноз на июнь 2016 года"
   ]
  },
  {
   "cell_type": "code",
   "execution_count": 7,
   "metadata": {},
   "outputs": [
    {
     "data": {
      "text/html": [
       "<div>\n",
       "<style>\n",
       "    .dataframe thead tr:only-child th {\n",
       "        text-align: right;\n",
       "    }\n",
       "\n",
       "    .dataframe thead th {\n",
       "        text-align: left;\n",
       "    }\n",
       "\n",
       "    .dataframe tbody tr th {\n",
       "        vertical-align: top;\n",
       "    }\n",
       "</style>\n",
       "<table border=\"1\" class=\"dataframe\">\n",
       "  <thead>\n",
       "    <tr style=\"text-align: right;\">\n",
       "      <th></th>\n",
       "      <th>y</th>\n",
       "    </tr>\n",
       "    <tr>\n",
       "      <th>id</th>\n",
       "      <th></th>\n",
       "    </tr>\n",
       "  </thead>\n",
       "  <tbody>\n",
       "    <tr>\n",
       "      <th>1075_2016-05-31_23_1</th>\n",
       "      <td>24.196970</td>\n",
       "    </tr>\n",
       "    <tr>\n",
       "      <th>1075_2016-05-31_23_2</th>\n",
       "      <td>12.409091</td>\n",
       "    </tr>\n",
       "    <tr>\n",
       "      <th>1075_2016-05-31_23_3</th>\n",
       "      <td>6.512821</td>\n",
       "    </tr>\n",
       "    <tr>\n",
       "      <th>1075_2016-05-31_23_4</th>\n",
       "      <td>4.290909</td>\n",
       "    </tr>\n",
       "    <tr>\n",
       "      <th>1075_2016-05-31_23_5</th>\n",
       "      <td>5.604396</td>\n",
       "    </tr>\n",
       "  </tbody>\n",
       "</table>\n",
       "</div>"
      ],
      "text/plain": [
       "                              y\n",
       "id                             \n",
       "1075_2016-05-31_23_1  24.196970\n",
       "1075_2016-05-31_23_2  12.409091\n",
       "1075_2016-05-31_23_3   6.512821\n",
       "1075_2016-05-31_23_4   4.290909\n",
       "1075_2016-05-31_23_5   5.604396"
      ]
     },
     "execution_count": 7,
     "metadata": {},
     "output_type": "execute_result"
    }
   ],
   "source": [
    "submission = pd.read_csv('2016_06_predictions_with_additional_features.csv',sep=',',index_col=0,header=0)\n",
    "submission.head()"
   ]
  },
  {
   "cell_type": "code",
   "execution_count": 8,
   "metadata": {},
   "outputs": [
    {
     "data": {
      "text/html": [
       "<div>\n",
       "<style>\n",
       "    .dataframe thead tr:only-child th {\n",
       "        text-align: right;\n",
       "    }\n",
       "\n",
       "    .dataframe thead th {\n",
       "        text-align: left;\n",
       "    }\n",
       "\n",
       "    .dataframe tbody tr th {\n",
       "        vertical-align: top;\n",
       "    }\n",
       "</style>\n",
       "<table border=\"1\" class=\"dataframe\">\n",
       "  <thead>\n",
       "    <tr style=\"text-align: right;\">\n",
       "      <th></th>\n",
       "      <th>id</th>\n",
       "      <th>y</th>\n",
       "    </tr>\n",
       "  </thead>\n",
       "  <tbody>\n",
       "    <tr>\n",
       "      <th>0</th>\n",
       "      <td>1075_2016-05-31_23_1</td>\n",
       "      <td>24.196970</td>\n",
       "    </tr>\n",
       "    <tr>\n",
       "      <th>1</th>\n",
       "      <td>1075_2016-05-31_23_2</td>\n",
       "      <td>12.409091</td>\n",
       "    </tr>\n",
       "    <tr>\n",
       "      <th>2</th>\n",
       "      <td>1075_2016-05-31_23_3</td>\n",
       "      <td>6.512821</td>\n",
       "    </tr>\n",
       "    <tr>\n",
       "      <th>3</th>\n",
       "      <td>1075_2016-05-31_23_4</td>\n",
       "      <td>4.290909</td>\n",
       "    </tr>\n",
       "    <tr>\n",
       "      <th>4</th>\n",
       "      <td>1075_2016-05-31_23_5</td>\n",
       "      <td>5.604396</td>\n",
       "    </tr>\n",
       "  </tbody>\n",
       "</table>\n",
       "</div>"
      ],
      "text/plain": [
       "                     id          y\n",
       "0  1075_2016-05-31_23_1  24.196970\n",
       "1  1075_2016-05-31_23_2  12.409091\n",
       "2  1075_2016-05-31_23_3   6.512821\n",
       "3  1075_2016-05-31_23_4   4.290909\n",
       "4  1075_2016-05-31_23_5   5.604396"
      ]
     },
     "execution_count": 8,
     "metadata": {},
     "output_type": "execute_result"
    }
   ],
   "source": [
    "# Преобразуем индексы в столбцы таблицы\n",
    "submission = submission.reset_index(level=['id'])\n",
    "submission.head()"
   ]
  },
  {
   "cell_type": "code",
   "execution_count": 9,
   "metadata": {},
   "outputs": [
    {
     "data": {
      "text/html": [
       "<div>\n",
       "<style>\n",
       "    .dataframe thead tr:only-child th {\n",
       "        text-align: right;\n",
       "    }\n",
       "\n",
       "    .dataframe thead th {\n",
       "        text-align: left;\n",
       "    }\n",
       "\n",
       "    .dataframe tbody tr th {\n",
       "        vertical-align: top;\n",
       "    }\n",
       "</style>\n",
       "<table border=\"1\" class=\"dataframe\">\n",
       "  <thead>\n",
       "    <tr style=\"text-align: right;\">\n",
       "      <th></th>\n",
       "      <th>y</th>\n",
       "      <th>region</th>\n",
       "      <th>number_predict</th>\n",
       "      <th>timestamp</th>\n",
       "    </tr>\n",
       "  </thead>\n",
       "  <tbody>\n",
       "    <tr>\n",
       "      <th>0</th>\n",
       "      <td>24.196970</td>\n",
       "      <td>1075</td>\n",
       "      <td>1</td>\n",
       "      <td>2016-05-31 23:00:00</td>\n",
       "    </tr>\n",
       "    <tr>\n",
       "      <th>1</th>\n",
       "      <td>12.409091</td>\n",
       "      <td>1075</td>\n",
       "      <td>2</td>\n",
       "      <td>2016-05-31 23:00:00</td>\n",
       "    </tr>\n",
       "    <tr>\n",
       "      <th>2</th>\n",
       "      <td>6.512821</td>\n",
       "      <td>1075</td>\n",
       "      <td>3</td>\n",
       "      <td>2016-05-31 23:00:00</td>\n",
       "    </tr>\n",
       "    <tr>\n",
       "      <th>3</th>\n",
       "      <td>4.290909</td>\n",
       "      <td>1075</td>\n",
       "      <td>4</td>\n",
       "      <td>2016-05-31 23:00:00</td>\n",
       "    </tr>\n",
       "    <tr>\n",
       "      <th>4</th>\n",
       "      <td>5.604396</td>\n",
       "      <td>1075</td>\n",
       "      <td>5</td>\n",
       "      <td>2016-05-31 23:00:00</td>\n",
       "    </tr>\n",
       "  </tbody>\n",
       "</table>\n",
       "</div>"
      ],
      "text/plain": [
       "           y  region  number_predict           timestamp\n",
       "0  24.196970    1075               1 2016-05-31 23:00:00\n",
       "1  12.409091    1075               2 2016-05-31 23:00:00\n",
       "2   6.512821    1075               3 2016-05-31 23:00:00\n",
       "3   4.290909    1075               4 2016-05-31 23:00:00\n",
       "4   5.604396    1075               5 2016-05-31 23:00:00"
      ]
     },
     "execution_count": 9,
     "metadata": {},
     "output_type": "execute_result"
    }
   ],
   "source": [
    "# Разбираем id на составляющие, а именно выделяем номер зоны, дату, час и шаг прогноза\n",
    "submission['region'] = [submission.id[i][:4] for i in range(len(submission.id))]\n",
    "submission['date'] = [submission.id[i][5:15] for i in range(len(submission.id))]\n",
    "submission['region'] = pd.to_numeric(submission['region'])\n",
    "submission['date'] = pd.to_datetime(submission['date'])\n",
    "\n",
    "submission['hour'] = [submission.id[i][16:18].replace(\"_\", \"\") for i in range(len(submission.id))]\n",
    "submission['number_predict'] = [submission.id[i][len(submission.id[i])-1:] for i in range(len(submission.id))]\n",
    "submission['hour'] = pd.to_numeric(submission['hour'])\n",
    "submission['number_predict'] = pd.to_numeric(submission['number_predict'])\n",
    "\n",
    "submission['timestamp'] = [datetime(submission['date'][i].year, submission['date'][i].month, submission['date'][i].day, submission['hour'][i]) for i in range(len(submission.id))]\n",
    "submission['timestamp'] = pd.to_datetime(submission['timestamp'])\n",
    "\n",
    "submission.drop(['id','date','hour'], axis = 1, inplace = True) # удаляем вспомогательные поля\n",
    "\n",
    "submission.head()"
   ]
  },
  {
   "cell_type": "markdown",
   "metadata": {},
   "source": [
    "Преобразуем представленный формат данных с тем, чтобы объединить факт и прогноз на июнь 2016 года"
   ]
  },
  {
   "cell_type": "code",
   "execution_count": 10,
   "metadata": {},
   "outputs": [
    {
     "name": "stderr",
     "output_type": "stream",
     "text": [
      "C:\\ProgramData\\Anaconda2\\lib\\site-packages\\ipykernel_launcher.py:2: SettingWithCopyWarning: \n",
      "A value is trying to be set on a copy of a slice from a DataFrame.\n",
      "Try using .loc[row_indexer,col_indexer] = value instead\n",
      "\n",
      "See the caveats in the documentation: http://pandas.pydata.org/pandas-docs/stable/indexing.html#indexing-view-versus-copy\n",
      "  \n",
      "C:\\ProgramData\\Anaconda2\\lib\\site-packages\\ipykernel_launcher.py:3: SettingWithCopyWarning: \n",
      "A value is trying to be set on a copy of a slice from a DataFrame.\n",
      "Try using .loc[row_indexer,col_indexer] = value instead\n",
      "\n",
      "See the caveats in the documentation: http://pandas.pydata.org/pandas-docs/stable/indexing.html#indexing-view-versus-copy\n",
      "  This is separate from the ipykernel package so we can avoid doing imports until\n",
      "C:\\ProgramData\\Anaconda2\\lib\\site-packages\\ipykernel_launcher.py:4: SettingWithCopyWarning: \n",
      "A value is trying to be set on a copy of a slice from a DataFrame\n",
      "\n",
      "See the caveats in the documentation: http://pandas.pydata.org/pandas-docs/stable/indexing.html#indexing-view-versus-copy\n",
      "  after removing the cwd from sys.path.\n",
      "C:\\ProgramData\\Anaconda2\\lib\\site-packages\\ipykernel_launcher.py:7: SettingWithCopyWarning: \n",
      "A value is trying to be set on a copy of a slice from a DataFrame.\n",
      "Try using .loc[row_indexer,col_indexer] = value instead\n",
      "\n",
      "See the caveats in the documentation: http://pandas.pydata.org/pandas-docs/stable/indexing.html#indexing-view-versus-copy\n",
      "  import sys\n",
      "C:\\ProgramData\\Anaconda2\\lib\\site-packages\\ipykernel_launcher.py:8: SettingWithCopyWarning: \n",
      "A value is trying to be set on a copy of a slice from a DataFrame.\n",
      "Try using .loc[row_indexer,col_indexer] = value instead\n",
      "\n",
      "See the caveats in the documentation: http://pandas.pydata.org/pandas-docs/stable/indexing.html#indexing-view-versus-copy\n",
      "  \n",
      "C:\\ProgramData\\Anaconda2\\lib\\site-packages\\ipykernel_launcher.py:9: SettingWithCopyWarning: \n",
      "A value is trying to be set on a copy of a slice from a DataFrame\n",
      "\n",
      "See the caveats in the documentation: http://pandas.pydata.org/pandas-docs/stable/indexing.html#indexing-view-versus-copy\n",
      "  if __name__ == '__main__':\n",
      "C:\\ProgramData\\Anaconda2\\lib\\site-packages\\ipykernel_launcher.py:12: SettingWithCopyWarning: \n",
      "A value is trying to be set on a copy of a slice from a DataFrame.\n",
      "Try using .loc[row_indexer,col_indexer] = value instead\n",
      "\n",
      "See the caveats in the documentation: http://pandas.pydata.org/pandas-docs/stable/indexing.html#indexing-view-versus-copy\n",
      "  if sys.path[0] == '':\n",
      "C:\\ProgramData\\Anaconda2\\lib\\site-packages\\ipykernel_launcher.py:13: SettingWithCopyWarning: \n",
      "A value is trying to be set on a copy of a slice from a DataFrame.\n",
      "Try using .loc[row_indexer,col_indexer] = value instead\n",
      "\n",
      "See the caveats in the documentation: http://pandas.pydata.org/pandas-docs/stable/indexing.html#indexing-view-versus-copy\n",
      "  del sys.path[0]\n",
      "C:\\ProgramData\\Anaconda2\\lib\\site-packages\\ipykernel_launcher.py:14: SettingWithCopyWarning: \n",
      "A value is trying to be set on a copy of a slice from a DataFrame\n",
      "\n",
      "See the caveats in the documentation: http://pandas.pydata.org/pandas-docs/stable/indexing.html#indexing-view-versus-copy\n",
      "  \n",
      "C:\\ProgramData\\Anaconda2\\lib\\site-packages\\ipykernel_launcher.py:17: SettingWithCopyWarning: \n",
      "A value is trying to be set on a copy of a slice from a DataFrame.\n",
      "Try using .loc[row_indexer,col_indexer] = value instead\n",
      "\n",
      "See the caveats in the documentation: http://pandas.pydata.org/pandas-docs/stable/indexing.html#indexing-view-versus-copy\n",
      "C:\\ProgramData\\Anaconda2\\lib\\site-packages\\ipykernel_launcher.py:18: SettingWithCopyWarning: \n",
      "A value is trying to be set on a copy of a slice from a DataFrame.\n",
      "Try using .loc[row_indexer,col_indexer] = value instead\n",
      "\n",
      "See the caveats in the documentation: http://pandas.pydata.org/pandas-docs/stable/indexing.html#indexing-view-versus-copy\n",
      "C:\\ProgramData\\Anaconda2\\lib\\site-packages\\ipykernel_launcher.py:19: SettingWithCopyWarning: \n",
      "A value is trying to be set on a copy of a slice from a DataFrame\n",
      "\n",
      "See the caveats in the documentation: http://pandas.pydata.org/pandas-docs/stable/indexing.html#indexing-view-versus-copy\n",
      "C:\\ProgramData\\Anaconda2\\lib\\site-packages\\ipykernel_launcher.py:22: SettingWithCopyWarning: \n",
      "A value is trying to be set on a copy of a slice from a DataFrame.\n",
      "Try using .loc[row_indexer,col_indexer] = value instead\n",
      "\n",
      "See the caveats in the documentation: http://pandas.pydata.org/pandas-docs/stable/indexing.html#indexing-view-versus-copy\n",
      "C:\\ProgramData\\Anaconda2\\lib\\site-packages\\ipykernel_launcher.py:23: SettingWithCopyWarning: \n",
      "A value is trying to be set on a copy of a slice from a DataFrame.\n",
      "Try using .loc[row_indexer,col_indexer] = value instead\n",
      "\n",
      "See the caveats in the documentation: http://pandas.pydata.org/pandas-docs/stable/indexing.html#indexing-view-versus-copy\n",
      "C:\\ProgramData\\Anaconda2\\lib\\site-packages\\ipykernel_launcher.py:24: SettingWithCopyWarning: \n",
      "A value is trying to be set on a copy of a slice from a DataFrame\n",
      "\n",
      "See the caveats in the documentation: http://pandas.pydata.org/pandas-docs/stable/indexing.html#indexing-view-versus-copy\n",
      "C:\\ProgramData\\Anaconda2\\lib\\site-packages\\ipykernel_launcher.py:27: SettingWithCopyWarning: \n",
      "A value is trying to be set on a copy of a slice from a DataFrame.\n",
      "Try using .loc[row_indexer,col_indexer] = value instead\n",
      "\n",
      "See the caveats in the documentation: http://pandas.pydata.org/pandas-docs/stable/indexing.html#indexing-view-versus-copy\n",
      "C:\\ProgramData\\Anaconda2\\lib\\site-packages\\ipykernel_launcher.py:28: SettingWithCopyWarning: \n",
      "A value is trying to be set on a copy of a slice from a DataFrame.\n",
      "Try using .loc[row_indexer,col_indexer] = value instead\n",
      "\n",
      "See the caveats in the documentation: http://pandas.pydata.org/pandas-docs/stable/indexing.html#indexing-view-versus-copy\n",
      "C:\\ProgramData\\Anaconda2\\lib\\site-packages\\ipykernel_launcher.py:29: SettingWithCopyWarning: \n",
      "A value is trying to be set on a copy of a slice from a DataFrame\n",
      "\n",
      "See the caveats in the documentation: http://pandas.pydata.org/pandas-docs/stable/indexing.html#indexing-view-versus-copy\n"
     ]
    }
   ],
   "source": [
    "d1 = submission.loc[submission['number_predict'] == 1]\n",
    "d1['forecast_1'] = d1.y\n",
    "d1['timestamp'] = d1.loc[d1['number_predict'] == 1]['timestamp'] + timedelta(hours=1)\n",
    "d1.drop(['y'], axis = 1, inplace=True)\n",
    "\n",
    "d2 = submission.loc[submission['number_predict'] == 2]\n",
    "d2['forecast_2'] = d2.y\n",
    "d2['timestamp'] = d2.loc[d2['number_predict'] == 2]['timestamp'] + timedelta(hours=2)\n",
    "d2.drop(['y'], axis = 1, inplace=True)\n",
    "\n",
    "d3 = submission.loc[submission['number_predict'] == 3]\n",
    "d3['forecast_3'] = d3.y\n",
    "d3['timestamp'] = d3.loc[d3['number_predict'] == 3]['timestamp'] + timedelta(hours=3)\n",
    "d3.drop(['y'], axis = 1, inplace=True)\n",
    "\n",
    "d4 = submission.loc[submission['number_predict'] == 4]\n",
    "d4['forecast_4'] = d4.y\n",
    "d4['timestamp'] = d4.loc[d4['number_predict'] == 4]['timestamp'] + timedelta(hours=4)\n",
    "d4.drop(['y'], axis = 1, inplace=True)\n",
    "\n",
    "d5 = submission.loc[submission['number_predict'] == 5]\n",
    "d5['forecast_5'] = d5.y\n",
    "d5['timestamp'] = d5.loc[d5['number_predict'] == 5]['timestamp'] + timedelta(hours=5)\n",
    "d5.drop(['y'], axis = 1, inplace=True)\n",
    "\n",
    "d6 = submission.loc[submission['number_predict'] == 6]\n",
    "d6['forecast_6'] = d6.y\n",
    "d6['timestamp'] = d6.loc[d6['number_predict'] == 6]['timestamp'] + timedelta(hours=6)\n",
    "d6.drop(['y'], axis = 1, inplace=True)"
   ]
  },
  {
   "cell_type": "code",
   "execution_count": 11,
   "metadata": {
    "collapsed": true
   },
   "outputs": [],
   "source": [
    "data = pd.merge(data_agg[['region_id', 'timestamp','actual']].loc[(data_agg.timestamp >= '2016-06-01 00:00:00') & (data_agg.timestamp <= '2016-06-30 23:00:00')], d1, left_on = ['region_id', 'timestamp'], right_on = ['region', 'timestamp'], how='left').fillna(0)\n",
    "data.drop(['region'], axis = 1, inplace = True)"
   ]
  },
  {
   "cell_type": "code",
   "execution_count": 12,
   "metadata": {
    "collapsed": true
   },
   "outputs": [],
   "source": [
    "data = pd.merge(data, d2[['region', 'timestamp','forecast_2']], left_on = ['region_id', 'timestamp'], right_on = ['region', 'timestamp'], how='left').fillna(0)\n",
    "data.drop(['region'], axis = 1, inplace = True)"
   ]
  },
  {
   "cell_type": "code",
   "execution_count": 13,
   "metadata": {
    "collapsed": true
   },
   "outputs": [],
   "source": [
    "data = pd.merge(data, d3[['region', 'timestamp','forecast_3']], left_on = ['region_id', 'timestamp'], right_on = ['region', 'timestamp'], how='left').fillna(0)\n",
    "data.drop(['region'], axis = 1, inplace = True)"
   ]
  },
  {
   "cell_type": "code",
   "execution_count": 14,
   "metadata": {
    "collapsed": true
   },
   "outputs": [],
   "source": [
    "data = pd.merge(data, d4[['region', 'timestamp','forecast_4']], left_on = ['region_id', 'timestamp'], right_on = ['region', 'timestamp'], how='left').fillna(0)\n",
    "data.drop(['region'], axis = 1, inplace = True)"
   ]
  },
  {
   "cell_type": "code",
   "execution_count": 15,
   "metadata": {
    "collapsed": true
   },
   "outputs": [],
   "source": [
    "data = pd.merge(data, d5[['region', 'timestamp','forecast_5']], left_on = ['region_id', 'timestamp'], right_on = ['region', 'timestamp'], how='left').fillna(0)\n",
    "data.drop(['region'], axis = 1, inplace = True)"
   ]
  },
  {
   "cell_type": "code",
   "execution_count": 16,
   "metadata": {
    "collapsed": true
   },
   "outputs": [],
   "source": [
    "data = pd.merge(data, d6[['region', 'timestamp','forecast_6']], left_on = ['region_id', 'timestamp'], right_on = ['region', 'timestamp'], how='left').fillna(0)\n",
    "data.drop(['region'], axis = 1, inplace = True)"
   ]
  },
  {
   "cell_type": "code",
   "execution_count": 17,
   "metadata": {
    "collapsed": true
   },
   "outputs": [],
   "source": [
    "data.rename(columns={'region_id':'region'}, inplace=True)"
   ]
  },
  {
   "cell_type": "markdown",
   "metadata": {},
   "source": [
    "Таким образом, мы получаем фактические и прогнозные данные в одном dataframe"
   ]
  },
  {
   "cell_type": "code",
   "execution_count": 18,
   "metadata": {},
   "outputs": [
    {
     "name": "stdout",
     "output_type": "stream",
     "text": [
      "(71511, 10)\n"
     ]
    },
    {
     "data": {
      "text/html": [
       "<div>\n",
       "<style>\n",
       "    .dataframe thead tr:only-child th {\n",
       "        text-align: right;\n",
       "    }\n",
       "\n",
       "    .dataframe thead th {\n",
       "        text-align: left;\n",
       "    }\n",
       "\n",
       "    .dataframe tbody tr th {\n",
       "        vertical-align: top;\n",
       "    }\n",
       "</style>\n",
       "<table border=\"1\" class=\"dataframe\">\n",
       "  <thead>\n",
       "    <tr style=\"text-align: right;\">\n",
       "      <th></th>\n",
       "      <th>region</th>\n",
       "      <th>timestamp</th>\n",
       "      <th>actual</th>\n",
       "      <th>number_predict</th>\n",
       "      <th>forecast_1</th>\n",
       "      <th>forecast_2</th>\n",
       "      <th>forecast_3</th>\n",
       "      <th>forecast_4</th>\n",
       "      <th>forecast_5</th>\n",
       "      <th>forecast_6</th>\n",
       "    </tr>\n",
       "  </thead>\n",
       "  <tbody>\n",
       "    <tr>\n",
       "      <th>0</th>\n",
       "      <td>1075</td>\n",
       "      <td>2016-06-01 00:00:00</td>\n",
       "      <td>26</td>\n",
       "      <td>1.0</td>\n",
       "      <td>24.196970</td>\n",
       "      <td>0.000000</td>\n",
       "      <td>0.000000</td>\n",
       "      <td>0.000000</td>\n",
       "      <td>0.000000</td>\n",
       "      <td>0.0</td>\n",
       "    </tr>\n",
       "    <tr>\n",
       "      <th>1</th>\n",
       "      <td>1075</td>\n",
       "      <td>2016-06-01 01:00:00</td>\n",
       "      <td>14</td>\n",
       "      <td>1.0</td>\n",
       "      <td>12.742424</td>\n",
       "      <td>12.409091</td>\n",
       "      <td>0.000000</td>\n",
       "      <td>0.000000</td>\n",
       "      <td>0.000000</td>\n",
       "      <td>0.0</td>\n",
       "    </tr>\n",
       "    <tr>\n",
       "      <th>2</th>\n",
       "      <td>1075</td>\n",
       "      <td>2016-06-01 02:00:00</td>\n",
       "      <td>5</td>\n",
       "      <td>1.0</td>\n",
       "      <td>6.196970</td>\n",
       "      <td>6.409091</td>\n",
       "      <td>6.512821</td>\n",
       "      <td>0.000000</td>\n",
       "      <td>0.000000</td>\n",
       "      <td>0.0</td>\n",
       "    </tr>\n",
       "    <tr>\n",
       "      <th>3</th>\n",
       "      <td>1075</td>\n",
       "      <td>2016-06-01 03:00:00</td>\n",
       "      <td>2</td>\n",
       "      <td>1.0</td>\n",
       "      <td>3.242424</td>\n",
       "      <td>3.136364</td>\n",
       "      <td>5.551282</td>\n",
       "      <td>4.290909</td>\n",
       "      <td>0.000000</td>\n",
       "      <td>0.0</td>\n",
       "    </tr>\n",
       "    <tr>\n",
       "      <th>4</th>\n",
       "      <td>1075</td>\n",
       "      <td>2016-06-01 04:00:00</td>\n",
       "      <td>1</td>\n",
       "      <td>1.0</td>\n",
       "      <td>3.000000</td>\n",
       "      <td>4.000000</td>\n",
       "      <td>4.717949</td>\n",
       "      <td>4.927273</td>\n",
       "      <td>5.604396</td>\n",
       "      <td>0.0</td>\n",
       "    </tr>\n",
       "  </tbody>\n",
       "</table>\n",
       "</div>"
      ],
      "text/plain": [
       "   region           timestamp  actual  number_predict  forecast_1  forecast_2  \\\n",
       "0    1075 2016-06-01 00:00:00      26             1.0   24.196970    0.000000   \n",
       "1    1075 2016-06-01 01:00:00      14             1.0   12.742424   12.409091   \n",
       "2    1075 2016-06-01 02:00:00       5             1.0    6.196970    6.409091   \n",
       "3    1075 2016-06-01 03:00:00       2             1.0    3.242424    3.136364   \n",
       "4    1075 2016-06-01 04:00:00       1             1.0    3.000000    4.000000   \n",
       "\n",
       "   forecast_3  forecast_4  forecast_5  forecast_6  \n",
       "0    0.000000    0.000000    0.000000         0.0  \n",
       "1    0.000000    0.000000    0.000000         0.0  \n",
       "2    6.512821    0.000000    0.000000         0.0  \n",
       "3    5.551282    4.290909    0.000000         0.0  \n",
       "4    4.717949    4.927273    5.604396         0.0  "
      ]
     },
     "execution_count": 18,
     "metadata": {},
     "output_type": "execute_result"
    }
   ],
   "source": [
    "print data.shape\n",
    "data.head()"
   ]
  },
  {
   "cell_type": "code",
   "execution_count": 19,
   "metadata": {},
   "outputs": [
    {
     "name": "stdout",
     "output_type": "stream",
     "text": [
      "(720, 102)\n"
     ]
    },
    {
     "data": {
      "text/html": [
       "<div>\n",
       "<style>\n",
       "    .dataframe thead tr:only-child th {\n",
       "        text-align: right;\n",
       "    }\n",
       "\n",
       "    .dataframe thead th {\n",
       "        text-align: left;\n",
       "    }\n",
       "\n",
       "    .dataframe tbody tr th {\n",
       "        vertical-align: top;\n",
       "    }\n",
       "</style>\n",
       "<table border=\"1\" class=\"dataframe\">\n",
       "  <thead>\n",
       "    <tr style=\"text-align: right;\">\n",
       "      <th>region</th>\n",
       "      <th>1075</th>\n",
       "      <th>1076</th>\n",
       "      <th>1077</th>\n",
       "      <th>1125</th>\n",
       "      <th>1126</th>\n",
       "      <th>1127</th>\n",
       "      <th>1128</th>\n",
       "      <th>1129</th>\n",
       "      <th>1130</th>\n",
       "      <th>1131</th>\n",
       "      <th>...</th>\n",
       "      <th>1630</th>\n",
       "      <th>1684</th>\n",
       "      <th>1733</th>\n",
       "      <th>1734</th>\n",
       "      <th>1783</th>\n",
       "      <th>2068</th>\n",
       "      <th>2069</th>\n",
       "      <th>2118</th>\n",
       "      <th>2119</th>\n",
       "      <th>2168</th>\n",
       "    </tr>\n",
       "    <tr>\n",
       "      <th>timestamp</th>\n",
       "      <th></th>\n",
       "      <th></th>\n",
       "      <th></th>\n",
       "      <th></th>\n",
       "      <th></th>\n",
       "      <th></th>\n",
       "      <th></th>\n",
       "      <th></th>\n",
       "      <th></th>\n",
       "      <th></th>\n",
       "      <th></th>\n",
       "      <th></th>\n",
       "      <th></th>\n",
       "      <th></th>\n",
       "      <th></th>\n",
       "      <th></th>\n",
       "      <th></th>\n",
       "      <th></th>\n",
       "      <th></th>\n",
       "      <th></th>\n",
       "      <th></th>\n",
       "    </tr>\n",
       "  </thead>\n",
       "  <tbody>\n",
       "    <tr>\n",
       "      <th>2016-06-01 00:00:00</th>\n",
       "      <td>26.0</td>\n",
       "      <td>30.0</td>\n",
       "      <td>19.0</td>\n",
       "      <td>39.0</td>\n",
       "      <td>71.0</td>\n",
       "      <td>163.0</td>\n",
       "      <td>181.0</td>\n",
       "      <td>219.0</td>\n",
       "      <td>326.0</td>\n",
       "      <td>56.0</td>\n",
       "      <td>...</td>\n",
       "      <td>1.0</td>\n",
       "      <td>1.0</td>\n",
       "      <td>6.0</td>\n",
       "      <td>262.0</td>\n",
       "      <td>107.0</td>\n",
       "      <td>114.0</td>\n",
       "      <td>7.0</td>\n",
       "      <td>169.0</td>\n",
       "      <td>6.0</td>\n",
       "      <td>85.0</td>\n",
       "    </tr>\n",
       "    <tr>\n",
       "      <th>2016-06-01 01:00:00</th>\n",
       "      <td>14.0</td>\n",
       "      <td>21.0</td>\n",
       "      <td>6.0</td>\n",
       "      <td>26.0</td>\n",
       "      <td>49.0</td>\n",
       "      <td>101.0</td>\n",
       "      <td>136.0</td>\n",
       "      <td>144.0</td>\n",
       "      <td>252.0</td>\n",
       "      <td>27.0</td>\n",
       "      <td>...</td>\n",
       "      <td>5.0</td>\n",
       "      <td>0.0</td>\n",
       "      <td>0.0</td>\n",
       "      <td>137.0</td>\n",
       "      <td>1.0</td>\n",
       "      <td>27.0</td>\n",
       "      <td>16.0</td>\n",
       "      <td>105.0</td>\n",
       "      <td>4.0</td>\n",
       "      <td>42.0</td>\n",
       "    </tr>\n",
       "    <tr>\n",
       "      <th>2016-06-01 02:00:00</th>\n",
       "      <td>5.0</td>\n",
       "      <td>25.0</td>\n",
       "      <td>4.0</td>\n",
       "      <td>18.0</td>\n",
       "      <td>25.0</td>\n",
       "      <td>42.0</td>\n",
       "      <td>74.0</td>\n",
       "      <td>123.0</td>\n",
       "      <td>245.0</td>\n",
       "      <td>30.0</td>\n",
       "      <td>...</td>\n",
       "      <td>8.0</td>\n",
       "      <td>0.0</td>\n",
       "      <td>1.0</td>\n",
       "      <td>25.0</td>\n",
       "      <td>0.0</td>\n",
       "      <td>11.0</td>\n",
       "      <td>0.0</td>\n",
       "      <td>31.0</td>\n",
       "      <td>0.0</td>\n",
       "      <td>10.0</td>\n",
       "    </tr>\n",
       "    <tr>\n",
       "      <th>2016-06-01 03:00:00</th>\n",
       "      <td>2.0</td>\n",
       "      <td>5.0</td>\n",
       "      <td>3.0</td>\n",
       "      <td>4.0</td>\n",
       "      <td>16.0</td>\n",
       "      <td>36.0</td>\n",
       "      <td>36.0</td>\n",
       "      <td>85.0</td>\n",
       "      <td>241.0</td>\n",
       "      <td>24.0</td>\n",
       "      <td>...</td>\n",
       "      <td>7.0</td>\n",
       "      <td>0.0</td>\n",
       "      <td>1.0</td>\n",
       "      <td>44.0</td>\n",
       "      <td>0.0</td>\n",
       "      <td>13.0</td>\n",
       "      <td>4.0</td>\n",
       "      <td>51.0</td>\n",
       "      <td>1.0</td>\n",
       "      <td>0.0</td>\n",
       "    </tr>\n",
       "    <tr>\n",
       "      <th>2016-06-01 04:00:00</th>\n",
       "      <td>1.0</td>\n",
       "      <td>8.0</td>\n",
       "      <td>3.0</td>\n",
       "      <td>6.0</td>\n",
       "      <td>26.0</td>\n",
       "      <td>27.0</td>\n",
       "      <td>46.0</td>\n",
       "      <td>54.0</td>\n",
       "      <td>129.0</td>\n",
       "      <td>11.0</td>\n",
       "      <td>...</td>\n",
       "      <td>4.0</td>\n",
       "      <td>0.0</td>\n",
       "      <td>0.0</td>\n",
       "      <td>0.0</td>\n",
       "      <td>2.0</td>\n",
       "      <td>23.0</td>\n",
       "      <td>3.0</td>\n",
       "      <td>33.0</td>\n",
       "      <td>3.0</td>\n",
       "      <td>1.0</td>\n",
       "    </tr>\n",
       "  </tbody>\n",
       "</table>\n",
       "<p>5 rows × 102 columns</p>\n",
       "</div>"
      ],
      "text/plain": [
       "region               1075  1076  1077  1125  1126   1127   1128   1129   1130  \\\n",
       "timestamp                                                                       \n",
       "2016-06-01 00:00:00  26.0  30.0  19.0  39.0  71.0  163.0  181.0  219.0  326.0   \n",
       "2016-06-01 01:00:00  14.0  21.0   6.0  26.0  49.0  101.0  136.0  144.0  252.0   \n",
       "2016-06-01 02:00:00   5.0  25.0   4.0  18.0  25.0   42.0   74.0  123.0  245.0   \n",
       "2016-06-01 03:00:00   2.0   5.0   3.0   4.0  16.0   36.0   36.0   85.0  241.0   \n",
       "2016-06-01 04:00:00   1.0   8.0   3.0   6.0  26.0   27.0   46.0   54.0  129.0   \n",
       "\n",
       "region               1131  ...   1630  1684  1733   1734   1783   2068  2069  \\\n",
       "timestamp                  ...                                                 \n",
       "2016-06-01 00:00:00  56.0  ...    1.0   1.0   6.0  262.0  107.0  114.0   7.0   \n",
       "2016-06-01 01:00:00  27.0  ...    5.0   0.0   0.0  137.0    1.0   27.0  16.0   \n",
       "2016-06-01 02:00:00  30.0  ...    8.0   0.0   1.0   25.0    0.0   11.0   0.0   \n",
       "2016-06-01 03:00:00  24.0  ...    7.0   0.0   1.0   44.0    0.0   13.0   4.0   \n",
       "2016-06-01 04:00:00  11.0  ...    4.0   0.0   0.0    0.0    2.0   23.0   3.0   \n",
       "\n",
       "region                2118  2119  2168  \n",
       "timestamp                               \n",
       "2016-06-01 00:00:00  169.0   6.0  85.0  \n",
       "2016-06-01 01:00:00  105.0   4.0  42.0  \n",
       "2016-06-01 02:00:00   31.0   0.0  10.0  \n",
       "2016-06-01 03:00:00   51.0   1.0   0.0  \n",
       "2016-06-01 04:00:00   33.0   3.0   1.0  \n",
       "\n",
       "[5 rows x 102 columns]"
      ]
     },
     "execution_count": 19,
     "metadata": {},
     "output_type": "execute_result"
    }
   ],
   "source": [
    "# Фактические значения\n",
    "data_real = data[['region','timestamp','actual']].pivot(index='timestamp', columns='region', values='actual')\n",
    "data_real.fillna(0,inplace=True)\n",
    "print data_real.shape\n",
    "data_real.head()"
   ]
  },
  {
   "cell_type": "code",
   "execution_count": 20,
   "metadata": {
    "collapsed": true
   },
   "outputs": [],
   "source": [
    "dict_real = data_real.to_dict('list')"
   ]
  },
  {
   "cell_type": "code",
   "execution_count": 21,
   "metadata": {
    "collapsed": true
   },
   "outputs": [],
   "source": [
    "# Прогнозные значения\n",
    "data_predict1 =  data[['region','timestamp','forecast_1']].pivot(index='timestamp', columns='region', values='forecast_1')\n",
    "data_predict1.fillna(0,inplace=True)\n",
    "dict_predict1 = data_predict1.to_dict('list')"
   ]
  },
  {
   "cell_type": "code",
   "execution_count": 22,
   "metadata": {
    "collapsed": true
   },
   "outputs": [],
   "source": [
    "data_predict2 = data[['region','timestamp','forecast_2']].pivot(index='timestamp', columns='region', values='forecast_2')\n",
    "data_predict2.fillna(0,inplace=True)\n",
    "dict_predict2 = data_predict2.to_dict('list')"
   ]
  },
  {
   "cell_type": "code",
   "execution_count": 23,
   "metadata": {
    "collapsed": true
   },
   "outputs": [],
   "source": [
    "data_predict3 = data[['region','timestamp','forecast_3']].pivot(index='timestamp', columns='region', values='forecast_3')\n",
    "data_predict3.fillna(0,inplace=True)\n",
    "dict_predict3 = data_predict3.to_dict('list')"
   ]
  },
  {
   "cell_type": "code",
   "execution_count": 24,
   "metadata": {
    "collapsed": true
   },
   "outputs": [],
   "source": [
    "data_predict4 = data[['region','timestamp','forecast_4']].pivot(index='timestamp', columns='region', values='forecast_4')\n",
    "data_predict4.fillna(0,inplace=True)\n",
    "dict_predict4 = data_predict4.to_dict('list')"
   ]
  },
  {
   "cell_type": "code",
   "execution_count": 25,
   "metadata": {
    "collapsed": true
   },
   "outputs": [],
   "source": [
    "data_predict5 = data[['region','timestamp','forecast_5']].pivot(index='timestamp', columns='region', values='forecast_5')\n",
    "data_predict5.fillna(0,inplace=True)\n",
    "dict_predict5 = data_predict5.to_dict('list')"
   ]
  },
  {
   "cell_type": "code",
   "execution_count": 26,
   "metadata": {
    "collapsed": true
   },
   "outputs": [],
   "source": [
    "data_predict6 = data[['region','timestamp','forecast_6']].pivot(index='timestamp', columns='region', values='forecast_6')\n",
    "data_predict6.fillna(0,inplace=True)\n",
    "dict_predict6 = data_predict6.to_dict('list')"
   ]
  },
  {
   "cell_type": "code",
   "execution_count": 27,
   "metadata": {
    "collapsed": true
   },
   "outputs": [],
   "source": [
    "dict_predict = {1 : dict_predict1,\n",
    "               2: dict_predict2,\n",
    "               3: dict_predict3,\n",
    "               4: dict_predict4,\n",
    "               5: dict_predict5,\n",
    "               6: dict_predict6}"
   ]
  },
  {
   "cell_type": "markdown",
   "metadata": {},
   "source": [
    "Список данных готов"
   ]
  },
  {
   "cell_type": "code",
   "execution_count": 28,
   "metadata": {
    "collapsed": true
   },
   "outputs": [],
   "source": [
    "tripdata = {'actual': dict_real,\n",
    "           'forecast': dict_predict,\n",
    "           'hours': [str(data.groupby(data.timestamp).count().index[i])[:-6] for i in range(len(data.groupby(data.timestamp).count().index))]} "
   ]
  },
  {
   "cell_type": "code",
   "execution_count": 29,
   "metadata": {
    "collapsed": true
   },
   "outputs": [],
   "source": [
    "class DateRangePicker(object):\n",
    "    def __init__(self, start, end, freq='H', fmt='%Y-%m-%d %H', cb=None):\n",
    "        \"\"\"\n",
    "        Parameters\n",
    "        ----------\n",
    "        start : string or datetime-like\n",
    "            Left bound of the period\n",
    "        end : string or datetime-like\n",
    "            Right bound of the period\n",
    "        freq : string or pandas.DateOffset, default='H'\n",
    "            Frequency strings can have multiples, e.g. '5H' \n",
    "        fmt : string, default = '%Y-%m-%d %H'\n",
    "            Format to use to display the selected period\n",
    "\n",
    "        \"\"\"\n",
    "        date_range = pd.date_range(start=start, end=end, freq=freq)\n",
    "        options = [(item.strftime(fmt), np.datetime64(item)) for item in date_range]\n",
    "        self.slider_start = widgets.SelectionSlider(\n",
    "            description='Start:',\n",
    "            options=options,\n",
    "            continuous_update=False,\n",
    "            layout=widgets.Layout(width='100%')\n",
    "        )\n",
    "        self.slider_end = widgets.SelectionSlider(\n",
    "            description='End:',\n",
    "            options=options,\n",
    "            continuous_update=False,\n",
    "            value=options[-1][1],\n",
    "            layout=widgets.Layout(width='100%')\n",
    "        )\n",
    "        self.cb = cb\n",
    "        self.slider_start.observe(self.handle_change, 'value')\n",
    "        self.slider_end.observe(self.handle_change, 'value')\n",
    "        self.widget = widgets.Box(children=[self.slider_start, self.slider_end])     \n",
    "    \n",
    "    def handle_change(self, d):\n",
    "        if self.cb:\n",
    "            self.cb(self.slider_start.value, self.slider_end.value)"
   ]
  },
  {
   "cell_type": "code",
   "execution_count": 30,
   "metadata": {
    "collapsed": true
   },
   "outputs": [],
   "source": [
    "def get_coords(region):\n",
    "    i = int((region - 1) / 50)\n",
    "    j = (region - 1) % 50\n",
    "    dx = (ny_east - ny_west) / 50\n",
    "    dy = (ny_north - ny_south) / 50\n",
    "    west = i * dx + ny_west\n",
    "    south = j * dy + ny_south\n",
    "    return west, west + dx, south, south + dy"
   ]
  },
  {
   "cell_type": "code",
   "execution_count": 31,
   "metadata": {
    "collapsed": true
   },
   "outputs": [],
   "source": [
    "regions = sorted(tripdata['actual'].keys())\n",
    "steps = sorted(tripdata['forecast'].keys())"
   ]
  },
  {
   "cell_type": "code",
   "execution_count": 32,
   "metadata": {
    "collapsed": true
   },
   "outputs": [],
   "source": [
    "hours = np.array(map(np.datetime64, tripdata['hours']))\n",
    "for region in regions:\n",
    "    tripdata['actual'][region] = np.array(tripdata['actual'][region])\n",
    "    for step in steps:\n",
    "        tripdata['forecast'][step][region] = np.array(tripdata['forecast'][step][region])"
   ]
  },
  {
   "cell_type": "markdown",
   "metadata": {},
   "source": [
    "Основной график - содержит фактические и прогнозируемые данные о количестве поездок"
   ]
  },
  {
   "cell_type": "code",
   "execution_count": 33,
   "metadata": {
    "collapsed": true
   },
   "outputs": [],
   "source": [
    "x_sc = DateScale()\n",
    "y_sc = LinearScale()\n",
    "\n",
    "selected = {'step': steps[0], 'region': regions[0], \n",
    "            'start': hours[0], 'end': hours[-1]}\n",
    "\n",
    "aline = Lines(scales={'x': x_sc, 'y': y_sc},\n",
    "             stroke_width=1, colors=['blue'], display_legend=True, \n",
    "             labels=[u'Actual']\n",
    "            )\n",
    "fline = Lines(scales={'x': x_sc, 'y': y_sc},\n",
    "             stroke_width=1, colors=['red'], display_legend=True, \n",
    "             labels=[u'Forecast']\n",
    "            )\n",
    "\n",
    "ax_x = Axis(scale=x_sc, grid_lines='solid', label=u'Hour')\n",
    "ax_y = Axis(scale=y_sc, orientation='vertical', tick_format='0.0f',\n",
    "            grid_lines='solid', label=u'Trip count')\n",
    "\n",
    "f = Figure(marks=[aline, fline], axes=[ax_x, ax_y], min_width=1000, min_height=400, \n",
    "           title=u'New York yellow taxi trips', legend_location='top-right', layout=widgets.Layout(width='50%'),)\n",
    "\n",
    "def update_lines():\n",
    "    v = (hours >= selected['start']) & (hours <= selected['end'])\n",
    "    x = hours[v]\n",
    "    aline.x = x\n",
    "    fline.x = x\n",
    "    fline.y = tripdata['forecast'][selected['step']][selected['region']][v]\n",
    "    aline.y = tripdata['actual'][selected['region']][v]\n",
    "    \n",
    "update_lines()"
   ]
  },
  {
   "cell_type": "markdown",
   "metadata": {},
   "source": [
    "Центр карты поставим в середину наших регионов"
   ]
  },
  {
   "cell_type": "code",
   "execution_count": 34,
   "metadata": {
    "collapsed": true
   },
   "outputs": [],
   "source": [
    "all_coords = map(get_coords, map(int, regions))\n",
    "min_lon = min(map(lambda x: x[0], all_coords))\n",
    "max_lon = max(map(lambda x: x[1], all_coords))\n",
    "min_lat = min(map(lambda x: x[2], all_coords))\n",
    "max_lat = max(map(lambda x: x[3], all_coords))"
   ]
  },
  {
   "cell_type": "markdown",
   "metadata": {},
   "source": [
    "На карту нанесём наши регионы, окрашенные по количеству среднего количества поездок"
   ]
  },
  {
   "cell_type": "code",
   "execution_count": 35,
   "metadata": {
    "collapsed": true
   },
   "outputs": [],
   "source": [
    "def make_geo_json(regions):\n",
    "    reg_avg = {region: np.mean(tripdata['actual'][region]) for region in regions}\n",
    "    reg_max = max(reg_avg.values())\n",
    "    colormap = plt.get_cmap('Blues')\n",
    "    data = {'type': 'FeatureCollection', 'features': []}\n",
    "    for region in regions:\n",
    "        i = int(float(colormap.N) * np.log(reg_avg[region]) / np.log(reg_max))\n",
    "        rgb = colormap(i)[:3] # will return rgba, we take only first 3 so we get rgb\n",
    "        color = colors.rgb2hex(rgb)\n",
    "        w, e, s, n = get_coords(int(region))\n",
    "        coordinates = [[w, s], [w, n], [e, n], [e, s]]\n",
    "        data['features'].append({\n",
    "            'id': region,\n",
    "            'type': 'Feature',\n",
    "            'geometry': {'coordinates': [[coordinates]], 'type': 'MultiPolygon'},\n",
    "            'properties': {'style': {'color': color, 'fillColor': color, \n",
    "                                     'fillOpacity': 0.5, 'weight': 1}},\n",
    "        })\n",
    "    return GeoJSON(data=data, hover_style={'fillColor': 'red'})"
   ]
  },
  {
   "cell_type": "code",
   "execution_count": 36,
   "metadata": {},
   "outputs": [
    {
     "data": {
      "text/html": [
       "<div>\n",
       "<style>\n",
       "    .dataframe thead tr:only-child th {\n",
       "        text-align: right;\n",
       "    }\n",
       "\n",
       "    .dataframe thead th {\n",
       "        text-align: left;\n",
       "    }\n",
       "\n",
       "    .dataframe tbody tr th {\n",
       "        vertical-align: top;\n",
       "    }\n",
       "</style>\n",
       "<table border=\"1\" class=\"dataframe\">\n",
       "  <thead>\n",
       "    <tr style=\"text-align: right;\">\n",
       "      <th></th>\n",
       "      <th>region</th>\n",
       "      <th>west</th>\n",
       "      <th>east</th>\n",
       "      <th>south</th>\n",
       "      <th>north</th>\n",
       "    </tr>\n",
       "  </thead>\n",
       "  <tbody>\n",
       "    <tr>\n",
       "      <th>0</th>\n",
       "      <td>1</td>\n",
       "      <td>-74.25559</td>\n",
       "      <td>-74.244478</td>\n",
       "      <td>40.496120</td>\n",
       "      <td>40.504508</td>\n",
       "    </tr>\n",
       "    <tr>\n",
       "      <th>1</th>\n",
       "      <td>2</td>\n",
       "      <td>-74.25559</td>\n",
       "      <td>-74.244478</td>\n",
       "      <td>40.504508</td>\n",
       "      <td>40.512896</td>\n",
       "    </tr>\n",
       "    <tr>\n",
       "      <th>2</th>\n",
       "      <td>3</td>\n",
       "      <td>-74.25559</td>\n",
       "      <td>-74.244478</td>\n",
       "      <td>40.512896</td>\n",
       "      <td>40.521285</td>\n",
       "    </tr>\n",
       "    <tr>\n",
       "      <th>3</th>\n",
       "      <td>4</td>\n",
       "      <td>-74.25559</td>\n",
       "      <td>-74.244478</td>\n",
       "      <td>40.521285</td>\n",
       "      <td>40.529673</td>\n",
       "    </tr>\n",
       "    <tr>\n",
       "      <th>4</th>\n",
       "      <td>5</td>\n",
       "      <td>-74.25559</td>\n",
       "      <td>-74.244478</td>\n",
       "      <td>40.529673</td>\n",
       "      <td>40.538061</td>\n",
       "    </tr>\n",
       "  </tbody>\n",
       "</table>\n",
       "</div>"
      ],
      "text/plain": [
       "   region      west       east      south      north\n",
       "0       1 -74.25559 -74.244478  40.496120  40.504508\n",
       "1       2 -74.25559 -74.244478  40.504508  40.512896\n",
       "2       3 -74.25559 -74.244478  40.512896  40.521285\n",
       "3       4 -74.25559 -74.244478  40.521285  40.529673\n",
       "4       5 -74.25559 -74.244478  40.529673  40.538061"
      ]
     },
     "execution_count": 36,
     "metadata": {},
     "output_type": "execute_result"
    }
   ],
   "source": [
    "# Загружаем регионы\n",
    "data_regions = pd.read_csv('regions.csv', header=0, sep=';')\n",
    "data_regions.head()"
   ]
  },
  {
   "cell_type": "code",
   "execution_count": 37,
   "metadata": {
    "collapsed": true
   },
   "outputs": [],
   "source": [
    "from ipywidgets import HTML\n",
    "from ipyleaflet import Map, Marker, Popup\n",
    "\n",
    "center = [(min_lat + max_lat) / 2, (min_lon + max_lon) / 2]\n",
    "zoom = 11\n",
    "\n",
    "m = Map(center=center, zoom=zoom, scroll_wheel_zoom=True, \n",
    "        layout=widgets.Layout(width='50%', height='450px'))\n",
    "\n",
    "\n",
    "def region_handler(event=None, id=None, properties=None):\n",
    "    selected['region'] = id\n",
    "    update_lines()\n",
    "    \n",
    "def region_popup(event=None, id=None, properties=None):\n",
    "    selected['region'] = id\n",
    "    message = HTML()\n",
    "    message.value = \"Region: \" + str(id) + \"<br>\"\\\n",
    "    + \"Time Shift: \" + str(selected['step']) + \"<br>\"\\\n",
    "    + \"Actual: \" + str(tripdata['actual'][id][len(tripdata['actual'][id])-7+selected['step']]) + \"<br>\"\\\n",
    "    + \"Forecast: \" + str(round(tripdata['forecast'][selected['step']][id][len(tripdata['forecast'][selected['step']][id])-7+selected['step']],2)) + \"<br>\"\\\n",
    "    + \"Residual: \" + str(round((tripdata['actual'][id][len(tripdata['actual'][id])-7+selected['step']] - tripdata['forecast'][selected['step']][id][len(tripdata['forecast'][selected['step']][id])-7+selected['step']])/tripdata['forecast'][selected['step']][id][len(tripdata['forecast'][selected['step']][id])-7+selected['step']]*100,2)) + \" %\"\n",
    "    popup = Popup(\n",
    "    location=[float((data_regions[data_regions.region==id]['south']) + float(data_regions[data_regions.region==id]['north']))/2., (float(data_regions[data_regions.region==id]['west']) + float(data_regions[data_regions.region==id]['east']))/2.],\n",
    "    child=message,  \n",
    "    close_button=True,\n",
    "    auto_close=False\n",
    "    )\n",
    "    m.add_layer(popup)"
   ]
  },
  {
   "cell_type": "markdown",
   "metadata": {},
   "source": [
    "Объект для выбора начала и конца рассматриваемого периода"
   ]
  },
  {
   "cell_type": "code",
   "execution_count": 38,
   "metadata": {
    "collapsed": true
   },
   "outputs": [],
   "source": [
    "def date_range_handler(start, end):\n",
    "    selected['start'] = start\n",
    "    selected['end'] = end\n",
    "    update_lines()"
   ]
  },
  {
   "cell_type": "markdown",
   "metadata": {},
   "source": [
    "Объект для выбора шага прогноза (мы сделали 6 моделей для прогнозирования на 1, ..., 6 часов)"
   ]
  },
  {
   "cell_type": "code",
   "execution_count": 39,
   "metadata": {
    "collapsed": true
   },
   "outputs": [],
   "source": [
    "def step_pair(step):\n",
    "    label = 'hour' if step == 1 else 'hours'\n",
    "    return (str(step) + ' ' + label, step)\n",
    "\n",
    "def step_handler(d):\n",
    "    selected['step'] = d['new']\n",
    "    update_lines()"
   ]
  },
  {
   "cell_type": "code",
   "execution_count": 40,
   "metadata": {
    "collapsed": true
   },
   "outputs": [],
   "source": [
    "# Виджет карта + график факт/прогноз\n",
    "map_and_time_series = widgets.HBox([m, f])"
   ]
  },
  {
   "cell_type": "code",
   "execution_count": 42,
   "metadata": {},
   "outputs": [
    {
     "data": {
      "application/vnd.jupyter.widget-view+json": {
       "model_id": "5eb5fc5cd4b54185af2b44d262a7da88",
       "version_major": 2,
       "version_minor": 0
      },
      "text/plain": [
       "A Jupyter Widget"
      ]
     },
     "metadata": {},
     "output_type": "display_data"
    }
   ],
   "source": [
    "# Дата начала и дата окончания\n",
    "drp = DateRangePicker(start=hours[0], end=hours[-1], cb=date_range_handler)\n",
    "drp.widget.layout = widgets.Layout(width='100%', margin='50px 0 0 0')\n",
    "\n",
    "# Шаг прогноза\n",
    "options = map(step_pair, steps)\n",
    "ss = widgets.SelectionSlider(description=u'Step:', options=options, continuous_update=False, \n",
    "                             value=options[0][1], layout=widgets.Layout(width='48.5%', margin='20px 0 0 0'))\n",
    "ss.observe(step_handler, 'value')\n",
    "\n",
    "# График фактического и прогнозируемого спроса на такси\n",
    "f = Figure(marks=[aline, fline], axes=[ax_x, ax_y], min_width=1000, min_height=400, \n",
    "           title=u'New York yellow taxi trips', legend_location='top-right', layout=widgets.Layout(width='50%'),)\n",
    "\n",
    "# Карта \n",
    "m = Map(center=center, zoom=zoom, scroll_wheel_zoom=True, \n",
    "        layout=widgets.Layout(width='50%', height='450px'))\n",
    "\n",
    "# Сетка регионов\n",
    "g = make_geo_json(regions)\n",
    "g.on_hover(region_handler)\n",
    "g.on_click(region_popup) # Вызов popup по щелчку мыши\n",
    "m.add_layer(g)\n",
    "\n",
    "map_and_time_series = widgets.HBox([m, f])\n",
    "Demo = widgets.VBox([drp.widget, ss, map_and_time_series])\n",
    "Demo"
   ]
  },
  {
   "cell_type": "code",
   "execution_count": null,
   "metadata": {
    "collapsed": true
   },
   "outputs": [],
   "source": []
  }
 ],
 "metadata": {
  "kernelspec": {
   "display_name": "Python 2",
   "language": "python",
   "name": "python2"
  },
  "language_info": {
   "codemirror_mode": {
    "name": "ipython",
    "version": 2
   },
   "file_extension": ".py",
   "mimetype": "text/x-python",
   "name": "python",
   "nbconvert_exporter": "python",
   "pygments_lexer": "ipython2",
   "version": "2.7.14"
  }
 },
 "nbformat": 4,
 "nbformat_minor": 2
}
